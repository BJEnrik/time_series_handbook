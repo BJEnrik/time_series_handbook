{
 "cells": [
  {
   "cell_type": "markdown",
   "metadata": {},
   "source": [
    "# Chapter 4: Granger Causality Test\n",
    "\n",
    "In the first three chapters, we discussed the classical methods for both univariate and multivariate time series forecasting. We now introduce the notion of causality and its implications on time series analysis in general. We also describe a test for the linear VAR model discussed in the previous chapter.\n",
    "\n",
    "Prepared by: Carlo Vincienzo G. Dajac"
   ]
  },
  {
   "cell_type": "markdown",
   "metadata": {},
   "source": [
    "**Chapter Outline**\n",
    "* Notations\n",
    "* Definitions\n",
    "* Assunmptions\n",
    "* Testing for Granger Causality"
   ]
  },
  {
   "cell_type": "markdown",
   "metadata": {},
   "source": [
    "## Notations\n",
    "\n",
    "If $A_t$ is a stationary stochastic process, let $\\overline A_t$ represent the set of *past* values ${A_{t-j}, \\; j=1,2,\\ldots,\\infty}$ and $\\overline{\\overline A}_t$ represent the set of *past and present* values ${A_{t-j}, \\; j=0,1,\\ldots,\\infty}$. Further, let $\\overline A(k)$ represent the set ${A_{t-j}, \\; j=k,k+1,\\ldots,\\infty}$.\n",
    "\n",
    "Denote the optimum, unbiased, least-squares predictor of $A_t$ using the set of values $B_t$ by $P_t (A|B)$. Thus, for instance, $P_t (X|\\overline X)$ will be the optimum predictor of $X_t$ using only past $X_t$. The predictive error series will be denoted by $\\varepsilon_t(A|B) = A_t - P_t(A|B)$. Let $\\sigma^2 (A|B)$ be the variance of $\\varepsilon_t(A|B)$.\n",
    "\n",
    "Let $U_t$ be all the information in the universe accumulated since time $t-1$ and let $U_t - Y_t$ denote all this information *apart* from the specified series $Y_t$."
   ]
  },
  {
   "cell_type": "markdown",
   "metadata": {},
   "source": [
    "## Definitions\n",
    "\n",
    "\n",
    "### Causality\n",
    "\n",
    "If $\\sigma^2 (X|U) < \\sigma^2 (X| \\overline{U-Y})$, we say that $Y$ is causing $X$, denoted by $Y_t \\implies X_t$. We say that $Y_t$ is causing $X_t$ if we are able to predict $X_t$ using all available information than if the information apart from $Y_t$ had been used.\n",
    "\n",
    "### Feedback\n",
    "If $\\sigma^2 (X|\\overline U) < \\sigma^2 (X| \\overline{U-Y})$ and $\\sigma^2 (Y|\\overline U) < \\sigma^2 (Y| \\overline{U-X})$, we say that feedback is occurring, which is denoted by $Y_t \\iff X_t$, i.e., feedback is said to occur when $X_t$ is causing $Y_t$ and also $Y_t$ is causing $X_t$.\n",
    "\n",
    "### Instantaneous Causality\n",
    "If $\\sigma^2 (X|\\overline U, \\overline{\\overline Y}) < \\sigma^2 (X| \\overline U)$, we say that instantaneous causality $Y_t \\implies X_t$ is occurring. In other words, the current value of $X_t$ is better \"predicted\" if the present value of $Y_t$ is included in the \"prediction\" than if it is not.\n",
    "\n",
    "### Causality Lag\n",
    "If $Y_t \\implies X_t$, we define the (integer) causality lag $m$ to be the least value of $k$ such that $\\sigma^2 (X|U-Y(k)) < \\sigma^2 (X|U-Y(k+1))$. Thus, knowing the values $Y_{t-j}, \\; j=0,1,\\ldots,m-1$ will be of no help in improving the prediction of $X_t$"
   ]
  },
  {
   "cell_type": "markdown",
   "metadata": {},
   "source": [
    "## Assumptions\n",
    "\n",
    "* Series is stationary.\n",
    "* Linear model is already optimized."
   ]
  },
  {
   "cell_type": "markdown",
   "metadata": {},
   "source": [
    "## Testing for Granger Causality"
   ]
  },
  {
   "cell_type": "code",
   "execution_count": 1,
   "metadata": {},
   "outputs": [],
   "source": [
    "import pandas as pd\n",
    "import numpy as np\n",
    "import matplotlib.pyplot as plt\n",
    "from scipy import stats\n",
    "from pandas.plotting import lag_plot\n",
    "from statsmodels.tsa.api import VAR\n",
    "from statsmodels.tsa.stattools import adfuller\n",
    "from statsmodels.tsa.stattools import kpss\n",
    "from statsmodels.tsa.stattools import grangercausalitytests\n",
    "from statsmodels.tools.eval_measures import rmse, aic\n",
    "from statsmodels.stats.stattools import durbin_watson"
   ]
  },
  {
   "cell_type": "markdown",
   "metadata": {},
   "source": [
    "We will use the Ipo dataset in this notebook."
   ]
  },
  {
   "cell_type": "code",
   "execution_count": 2,
   "metadata": {},
   "outputs": [
    {
     "data": {
      "text/html": [
       "<div>\n",
       "<style scoped>\n",
       "    .dataframe tbody tr th:only-of-type {\n",
       "        vertical-align: middle;\n",
       "    }\n",
       "\n",
       "    .dataframe tbody tr th {\n",
       "        vertical-align: top;\n",
       "    }\n",
       "\n",
       "    .dataframe thead th {\n",
       "        text-align: right;\n",
       "    }\n",
       "</style>\n",
       "<table border=\"1\" class=\"dataframe\">\n",
       "  <thead>\n",
       "    <tr style=\"text-align: right;\">\n",
       "      <th></th>\n",
       "      <th>Rain</th>\n",
       "      <th>ONI</th>\n",
       "      <th>NIA</th>\n",
       "      <th>Dam</th>\n",
       "    </tr>\n",
       "    <tr>\n",
       "      <th>Time</th>\n",
       "      <th></th>\n",
       "      <th></th>\n",
       "      <th></th>\n",
       "      <th></th>\n",
       "    </tr>\n",
       "  </thead>\n",
       "  <tbody>\n",
       "    <tr>\n",
       "      <th>0</th>\n",
       "      <td>0.00</td>\n",
       "      <td>-0.7</td>\n",
       "      <td>38.225693</td>\n",
       "      <td>100.70</td>\n",
       "    </tr>\n",
       "    <tr>\n",
       "      <th>1</th>\n",
       "      <td>0.00</td>\n",
       "      <td>-0.7</td>\n",
       "      <td>57.996530</td>\n",
       "      <td>100.63</td>\n",
       "    </tr>\n",
       "    <tr>\n",
       "      <th>2</th>\n",
       "      <td>0.00</td>\n",
       "      <td>-0.7</td>\n",
       "      <td>49.119213</td>\n",
       "      <td>100.56</td>\n",
       "    </tr>\n",
       "    <tr>\n",
       "      <th>3</th>\n",
       "      <td>0.00</td>\n",
       "      <td>-0.7</td>\n",
       "      <td>47.034720</td>\n",
       "      <td>100.55</td>\n",
       "    </tr>\n",
       "    <tr>\n",
       "      <th>4</th>\n",
       "      <td>0.00</td>\n",
       "      <td>-0.7</td>\n",
       "      <td>42.223380</td>\n",
       "      <td>100.48</td>\n",
       "    </tr>\n",
       "    <tr>\n",
       "      <th>...</th>\n",
       "      <td>...</td>\n",
       "      <td>...</td>\n",
       "      <td>...</td>\n",
       "      <td>...</td>\n",
       "    </tr>\n",
       "    <tr>\n",
       "      <th>7111</th>\n",
       "      <td>1.80</td>\n",
       "      <td>-0.2</td>\n",
       "      <td>5.040000</td>\n",
       "      <td>100.86</td>\n",
       "    </tr>\n",
       "    <tr>\n",
       "      <th>7112</th>\n",
       "      <td>1.60</td>\n",
       "      <td>-0.2</td>\n",
       "      <td>4.500000</td>\n",
       "      <td>101.01</td>\n",
       "    </tr>\n",
       "    <tr>\n",
       "      <th>7113</th>\n",
       "      <td>21.60</td>\n",
       "      <td>-0.2</td>\n",
       "      <td>6.730000</td>\n",
       "      <td>101.08</td>\n",
       "    </tr>\n",
       "    <tr>\n",
       "      <th>7114</th>\n",
       "      <td>0.20</td>\n",
       "      <td>-0.2</td>\n",
       "      <td>6.720000</td>\n",
       "      <td>100.92</td>\n",
       "    </tr>\n",
       "    <tr>\n",
       "      <th>7115</th>\n",
       "      <td>46.82</td>\n",
       "      <td>-0.2</td>\n",
       "      <td>1.950000</td>\n",
       "      <td>100.97</td>\n",
       "    </tr>\n",
       "  </tbody>\n",
       "</table>\n",
       "<p>7116 rows × 4 columns</p>\n",
       "</div>"
      ],
      "text/plain": [
       "       Rain  ONI        NIA     Dam\n",
       "Time                               \n",
       "0      0.00 -0.7  38.225693  100.70\n",
       "1      0.00 -0.7  57.996530  100.63\n",
       "2      0.00 -0.7  49.119213  100.56\n",
       "3      0.00 -0.7  47.034720  100.55\n",
       "4      0.00 -0.7  42.223380  100.48\n",
       "...     ...  ...        ...     ...\n",
       "7111   1.80 -0.2   5.040000  100.86\n",
       "7112   1.60 -0.2   4.500000  101.01\n",
       "7113  21.60 -0.2   6.730000  101.08\n",
       "7114   0.20 -0.2   6.720000  100.92\n",
       "7115  46.82 -0.2   1.950000  100.97\n",
       "\n",
       "[7116 rows x 4 columns]"
      ]
     },
     "execution_count": 2,
     "metadata": {},
     "output_type": "execute_result"
    }
   ],
   "source": [
    "data = pd.read_csv('../data/Ipo_dataset.csv', index_col='Time');\n",
    "data = data.dropna()\n",
    "data"
   ]
  },
  {
   "cell_type": "markdown",
   "metadata": {},
   "source": [
    "As an example, we will only use the NIA and Dam time series."
   ]
  },
  {
   "cell_type": "code",
   "execution_count": 3,
   "metadata": {
    "scrolled": true
   },
   "outputs": [
    {
     "data": {
      "text/html": [
       "<div>\n",
       "<style scoped>\n",
       "    .dataframe tbody tr th:only-of-type {\n",
       "        vertical-align: middle;\n",
       "    }\n",
       "\n",
       "    .dataframe tbody tr th {\n",
       "        vertical-align: top;\n",
       "    }\n",
       "\n",
       "    .dataframe thead th {\n",
       "        text-align: right;\n",
       "    }\n",
       "</style>\n",
       "<table border=\"1\" class=\"dataframe\">\n",
       "  <thead>\n",
       "    <tr style=\"text-align: right;\">\n",
       "      <th></th>\n",
       "      <th>Rain</th>\n",
       "      <th>Dam</th>\n",
       "    </tr>\n",
       "    <tr>\n",
       "      <th>Time</th>\n",
       "      <th></th>\n",
       "      <th></th>\n",
       "    </tr>\n",
       "  </thead>\n",
       "  <tbody>\n",
       "    <tr>\n",
       "      <th>0</th>\n",
       "      <td>0.00</td>\n",
       "      <td>100.70</td>\n",
       "    </tr>\n",
       "    <tr>\n",
       "      <th>1</th>\n",
       "      <td>0.00</td>\n",
       "      <td>100.63</td>\n",
       "    </tr>\n",
       "    <tr>\n",
       "      <th>2</th>\n",
       "      <td>0.00</td>\n",
       "      <td>100.56</td>\n",
       "    </tr>\n",
       "    <tr>\n",
       "      <th>3</th>\n",
       "      <td>0.00</td>\n",
       "      <td>100.55</td>\n",
       "    </tr>\n",
       "    <tr>\n",
       "      <th>4</th>\n",
       "      <td>0.00</td>\n",
       "      <td>100.48</td>\n",
       "    </tr>\n",
       "    <tr>\n",
       "      <th>...</th>\n",
       "      <td>...</td>\n",
       "      <td>...</td>\n",
       "    </tr>\n",
       "    <tr>\n",
       "      <th>7111</th>\n",
       "      <td>1.80</td>\n",
       "      <td>100.86</td>\n",
       "    </tr>\n",
       "    <tr>\n",
       "      <th>7112</th>\n",
       "      <td>1.60</td>\n",
       "      <td>101.01</td>\n",
       "    </tr>\n",
       "    <tr>\n",
       "      <th>7113</th>\n",
       "      <td>21.60</td>\n",
       "      <td>101.08</td>\n",
       "    </tr>\n",
       "    <tr>\n",
       "      <th>7114</th>\n",
       "      <td>0.20</td>\n",
       "      <td>100.92</td>\n",
       "    </tr>\n",
       "    <tr>\n",
       "      <th>7115</th>\n",
       "      <td>46.82</td>\n",
       "      <td>100.97</td>\n",
       "    </tr>\n",
       "  </tbody>\n",
       "</table>\n",
       "<p>7116 rows × 2 columns</p>\n",
       "</div>"
      ],
      "text/plain": [
       "       Rain     Dam\n",
       "Time               \n",
       "0      0.00  100.70\n",
       "1      0.00  100.63\n",
       "2      0.00  100.56\n",
       "3      0.00  100.55\n",
       "4      0.00  100.48\n",
       "...     ...     ...\n",
       "7111   1.80  100.86\n",
       "7112   1.60  101.01\n",
       "7113  21.60  101.08\n",
       "7114   0.20  100.92\n",
       "7115  46.82  100.97\n",
       "\n",
       "[7116 rows x 2 columns]"
      ]
     },
     "execution_count": 3,
     "metadata": {},
     "output_type": "execute_result"
    }
   ],
   "source": [
    "data = data.drop(['NIA', 'ONI'], axis=1)\n",
    "data"
   ]
  },
  {
   "cell_type": "markdown",
   "metadata": {},
   "source": [
    "**Step 1**: Test each time series for stationarity. Ideally, this should involve using a test (such as the ADF test) where the null hypothesis is non-stationarity, as well as a test (such as the KPSS test) where the null is stationarity. This is a good cross-check."
   ]
  },
  {
   "cell_type": "code",
   "execution_count": 4,
   "metadata": {},
   "outputs": [
    {
     "data": {
      "image/png": "[encoded data removed]",
      "text/plain": [
       "<Figure size 1080x360 with 2 Axes>"
      ]
     },
     "metadata": {
      "filenames": {
       "image/png": "/Users/prince.javier/Desktop/personal/PhDDS/ATSA/final_book/_build/jupyter_execute/04_GrangerCausality/04_GrangerCausality_12_0.png"
      },
      "needs_background": "light"
     },
     "output_type": "display_data"
    }
   ],
   "source": [
    "f2, (ax4, ax5) = plt.subplots(1, 2, figsize=(15, 5))\n",
    "f2.tight_layout()\n",
    "\n",
    "lag_plot(data['Rain'], ax=ax4)\n",
    "ax4.set_title('Rainfall');\n",
    "\n",
    "# lag_plot(data['NIA'], ax=ax4)\n",
    "# ax4.set_title('NIA Releases');\n",
    "\n",
    "lag_plot(data['Dam'], ax=ax5)\n",
    "ax5.set_title('Dam Water Level');\n",
    "\n",
    "plt.show()"
   ]
  },
  {
   "cell_type": "markdown",
   "metadata": {},
   "source": [
    "**Result**: Both data are not stationary. We can make them stationary through differencing."
   ]
  },
  {
   "cell_type": "code",
   "execution_count": 5,
   "metadata": {},
   "outputs": [],
   "source": [
    "# differencing for stationarity check\n",
    "rawData = data.copy(deep=True)\n",
    "\n",
    "# data['Rain'] = data['Rain'] - data['Rain'].shift(1)\n",
    "# data['NIA'] = data['NIA'] - data['NIA'].shift(1)\n",
    "data['Dam'] = data['Dam'] - data['Dam'].shift(1)\n",
    "data = data.dropna()"
   ]
  },
  {
   "cell_type": "code",
   "execution_count": 6,
   "metadata": {},
   "outputs": [],
   "source": [
    "# split data into train and test sets for VAR later on\n",
    "end = round(len(data)*.8)\n",
    "train = data[:end]\n",
    "test = data[end:]"
   ]
  },
  {
   "cell_type": "code",
   "execution_count": 7,
   "metadata": {},
   "outputs": [
    {
     "name": "stdout",
     "output_type": "stream",
     "text": [
      "ADF Statistic: -21.591918\n",
      "p-value: 0.000000\n",
      "Critical Values:\n",
      "\t1%: -3.431\n",
      "\t5%: -2.862\n",
      "\t10%: -2.567\n",
      "ADF Statistic: -8.622738\n",
      "p-value: 0.000000\n",
      "Critical Values:\n",
      "\t1%: -3.431\n",
      "\t5%: -2.862\n",
      "\t10%: -2.567\n"
     ]
    }
   ],
   "source": [
    "# ADF Null Hypothesis: there is a unit root, meaning series is non-stationary\n",
    "\n",
    "X1 = np.array(data['Dam'])\n",
    "X1 = X1[~np.isnan(X1)]\n",
    "\n",
    "result = adfuller(X1)\n",
    "print('ADF Statistic: %f' % result[0])\n",
    "print('p-value: %f' % result[1])\n",
    "print('Critical Values:')\n",
    "for key, value in result[4].items():\n",
    "    print('\\t%s: %.3f' % (key, value))\n",
    "    \n",
    "    \n",
    "X2 = np.array(data['Rain'])\n",
    "# X2 = np.array(data['NIA'])\n",
    "X2 = X2[~np.isnan(X2)]\n",
    "\n",
    "result = adfuller(X2)\n",
    "print('ADF Statistic: %f' % result[0])\n",
    "print('p-value: %f' % result[1])\n",
    "print('Critical Values:')\n",
    "for key, value in result[4].items():\n",
    "    print('\\t%s: %.3f' % (key, value))"
   ]
  },
  {
   "cell_type": "code",
   "execution_count": 8,
   "metadata": {},
   "outputs": [
    {
     "name": "stdout",
     "output_type": "stream",
     "text": [
      "KPSS Statistic: 0.009242367643647224\n",
      "p-value: 0.1\n",
      "num lags: 35\n",
      "Critial Values:\n",
      "   10% : 0.347\n",
      "   5% : 0.463\n",
      "   2.5% : 0.574\n",
      "   1% : 0.739\n",
      "Result: The series is stationary\n",
      "KPSS Statistic: 0.09395749653745288\n",
      "p-value: 0.1\n",
      "num lags: 35\n",
      "Critial Values:\n",
      "   10% : 0.347\n",
      "   5% : 0.463\n",
      "   2.5% : 0.574\n",
      "   1% : 0.739\n",
      "Result: The series is stationary\n"
     ]
    },
    {
     "name": "stderr",
     "output_type": "stream",
     "text": [
      "/Users/prince.javier/opt/anaconda3/envs/atsa/lib/python3.7/site-packages/statsmodels/tsa/stattools.py:1875: FutureWarning: The behavior of using nlags=None will change in release 0.13.Currently nlags=None is the same as nlags=\"legacy\", and so a sample-size lag length is used. After the next release, the default will change to be the same as nlags=\"auto\" which uses an automatic lag length selection method. To silence this warning, either use \"auto\" or \"legacy\"\n",
      "  warnings.warn(msg, FutureWarning)\n",
      "/Users/prince.javier/opt/anaconda3/envs/atsa/lib/python3.7/site-packages/statsmodels/tsa/stattools.py:1911: InterpolationWarning: The test statistic is outside of the range of p-values available in the\n",
      "look-up table. The actual p-value is greater than the p-value returned.\n",
      "\n",
      "  warn_msg.format(direction=\"greater\"), InterpolationWarning\n",
      "/Users/prince.javier/opt/anaconda3/envs/atsa/lib/python3.7/site-packages/statsmodels/tsa/stattools.py:1911: InterpolationWarning: The test statistic is outside of the range of p-values available in the\n",
      "look-up table. The actual p-value is greater than the p-value returned.\n",
      "\n",
      "  warn_msg.format(direction=\"greater\"), InterpolationWarning\n"
     ]
    }
   ],
   "source": [
    "# KPSS Null Hypothesis: there is no unit root, meaning series is stationary\n",
    "\n",
    "def kpss_test(series, **kw):    \n",
    "    statistic, p_value, n_lags, critical_values = kpss(series, **kw)\n",
    "    # Format Output\n",
    "    print(f'KPSS Statistic: {statistic}')\n",
    "    print(f'p-value: {p_value}')\n",
    "    print(f'num lags: {n_lags}')\n",
    "    print('Critial Values:')\n",
    "    for key, value in critical_values.items():\n",
    "        print(f'   {key} : {value}')\n",
    "    print(f'Result: The series is {\"not \" if p_value < 0.05 else \"\"}stationary')\n",
    "\n",
    "kpss_test(X1)\n",
    "kpss_test(X2)"
   ]
  },
  {
   "cell_type": "markdown",
   "metadata": {},
   "source": [
    "**Results**: ADF Null Hypothesis is rejected. Thus, data is stationary. KPSS Null Hypothesis could not be rejected. Thus, data is stationary."
   ]
  },
  {
   "cell_type": "code",
   "execution_count": 9,
   "metadata": {},
   "outputs": [
    {
     "data": {
      "image/png": "[encoded data removed]",
      "text/plain": [
       "<Figure size 1080x360 with 2 Axes>"
      ]
     },
     "metadata": {
      "filenames": {
       "image/png": "/Users/prince.javier/Desktop/personal/PhDDS/ATSA/final_book/_build/jupyter_execute/04_GrangerCausality/04_GrangerCausality_19_0.png"
      },
      "needs_background": "light"
     },
     "output_type": "display_data"
    }
   ],
   "source": [
    "f2, (ax4, ax5) = plt.subplots(1, 2, figsize=(15, 5))\n",
    "f2.tight_layout()\n",
    "\n",
    "lag_plot(data['Rain'], ax=ax4)\n",
    "ax4.set_title('Rainfall');\n",
    "\n",
    "# lag_plot(data['NIA'], ax=ax4)\n",
    "# ax4.set_title('NIA Releases');\n",
    "\n",
    "lag_plot(data['Dam'], ax=ax5)\n",
    "ax5.set_title('Dam Water Level');\n",
    "\n",
    "plt.show()"
   ]
  },
  {
   "cell_type": "markdown",
   "metadata": {},
   "source": [
    "**Result**: Lag plots confirm results of ADF test and KPSS test."
   ]
  },
  {
   "cell_type": "markdown",
   "metadata": {},
   "source": [
    "**Step 2**: Set up a VAR model for the data (without differencing)."
   ]
  },
  {
   "cell_type": "code",
   "execution_count": 10,
   "metadata": {},
   "outputs": [
    {
     "name": "stderr",
     "output_type": "stream",
     "text": [
      "/Users/prince.javier/opt/anaconda3/envs/atsa/lib/python3.7/site-packages/statsmodels/tsa/base/tsa_model.py:579: ValueWarning: An unsupported index was provided and will be ignored when e.g. forecasting.\n",
      "  ' ignored when e.g. forecasting.', ValueWarning)\n"
     ]
    }
   ],
   "source": [
    "model = VAR(train)\n",
    "model_fitted = model.fit(2)"
   ]
  },
  {
   "cell_type": "markdown",
   "metadata": {},
   "source": [
    "**Step 4**: Make sure that the VAR is well-specified. For example, ensure that there is no serial correlation in the residuals. If need be, increase p until any autocorrelation issues are resolved."
   ]
  },
  {
   "cell_type": "code",
   "execution_count": 11,
   "metadata": {},
   "outputs": [
    {
     "name": "stdout",
     "output_type": "stream",
     "text": [
      "Rain : 2.01\n",
      "Dam : 2.07\n"
     ]
    }
   ],
   "source": [
    "#Check for Serial Correlation of Residuals (Errors) using Durbin Watson Statistic\n",
    "#The value of this statistic can vary between 0 and 4. \n",
    "#The closer it is to the value 2, then there is no significant serial correlation. \n",
    "#The closer to 0, there is a positive serial correlation, \n",
    "#and the closer it is to 4 implies negative serial correlation.\n",
    "\n",
    "out = durbin_watson(model_fitted.resid)\n",
    "\n",
    "for col, val in zip(data.columns, out):\n",
    "    print(col, ':', round(val, 2))"
   ]
  },
  {
   "cell_type": "markdown",
   "metadata": {},
   "source": [
    "**Result**: There is no significant correlation between in the residuals."
   ]
  },
  {
   "cell_type": "markdown",
   "metadata": {},
   "source": [
    "**Step 5**: Now take the preferred VAR model and add in m additional lags of each of the variables into each of the equations."
   ]
  },
  {
   "cell_type": "code",
   "execution_count": 12,
   "metadata": {},
   "outputs": [
    {
     "name": "stdout",
     "output_type": "stream",
     "text": [
      "2\n"
     ]
    },
    {
     "name": "stderr",
     "output_type": "stream",
     "text": [
      "/Users/prince.javier/opt/anaconda3/envs/atsa/lib/python3.7/site-packages/statsmodels/tsa/base/tsa_model.py:579: ValueWarning: An unsupported index was provided and will be ignored when e.g. forecasting.\n",
      "  ' ignored when e.g. forecasting.', ValueWarning)\n"
     ]
    }
   ],
   "source": [
    "model = VAR(train)\n",
    "model_fitted = model.fit(2)\n",
    "#get the lag order\n",
    "lag_order = model_fitted.k_ar\n",
    "print(lag_order)"
   ]
  },
  {
   "cell_type": "markdown",
   "metadata": {},
   "source": [
    "**Step 6**: Test for Granger non-causality."
   ]
  },
  {
   "cell_type": "code",
   "execution_count": 13,
   "metadata": {},
   "outputs": [],
   "source": [
    "maxlag = lag_order\n",
    "test = 'ssr_chi2test'\n",
    "def grangers_causation_matrix(data, variables, test='ssr_chi2test', verbose=False):    \n",
    "    \"\"\"Check Granger Causality of all possible combinations of the time series.\n",
    "    The rows are the response variable, columns are predictors. The values in the table \n",
    "    are the P-Values. P-Values lesser than the significance level (0.05), implies \n",
    "    the Null Hypothesis that the coefficients of the corresponding past values is \n",
    "    zero, that is, the X does not cause Y can be rejected.\n",
    "\n",
    "    data      : pandas dataframe containing the time series variables\n",
    "    variables : list containing names of the time series variables.\n",
    "    \"\"\"\n",
    "    df = pd.DataFrame(np.zeros((len(variables), len(variables))), columns=variables, index=variables)\n",
    "    for c in df.columns:\n",
    "        for r in df.index:\n",
    "            test_result = grangercausalitytests(data[[r, c]], maxlag=maxlag, verbose=False)\n",
    "            p_values = [round(test_result[i+1][0][test][1],4) for i in range(maxlag)]\n",
    "            if verbose: print(f'Y = {r}, X = {c}, P Values = {p_values}')\n",
    "            min_p_value = np.min(p_values)\n",
    "            df.loc[r, c] = min_p_value\n",
    "    df.columns = [var + '_x' for var in variables]\n",
    "    df.index = [var + '_y' for var in variables]\n",
    "    return df\n",
    "\n",
    "o = grangers_causation_matrix(train, variables = train.columns)  "
   ]
  },
  {
   "cell_type": "code",
   "execution_count": 14,
   "metadata": {},
   "outputs": [
    {
     "data": {
      "text/html": [
       "<div>\n",
       "<style scoped>\n",
       "    .dataframe tbody tr th:only-of-type {\n",
       "        vertical-align: middle;\n",
       "    }\n",
       "\n",
       "    .dataframe tbody tr th {\n",
       "        vertical-align: top;\n",
       "    }\n",
       "\n",
       "    .dataframe thead th {\n",
       "        text-align: right;\n",
       "    }\n",
       "</style>\n",
       "<table border=\"1\" class=\"dataframe\">\n",
       "  <thead>\n",
       "    <tr style=\"text-align: right;\">\n",
       "      <th></th>\n",
       "      <th>Rain_x</th>\n",
       "      <th>Dam_x</th>\n",
       "    </tr>\n",
       "  </thead>\n",
       "  <tbody>\n",
       "    <tr>\n",
       "      <th>Rain_y</th>\n",
       "      <td>1.0</td>\n",
       "      <td>0.2932</td>\n",
       "    </tr>\n",
       "    <tr>\n",
       "      <th>Dam_y</th>\n",
       "      <td>0.0</td>\n",
       "      <td>1.0000</td>\n",
       "    </tr>\n",
       "  </tbody>\n",
       "</table>\n",
       "</div>"
      ],
      "text/plain": [
       "        Rain_x   Dam_x\n",
       "Rain_y     1.0  0.2932\n",
       "Dam_y      0.0  1.0000"
      ]
     },
     "execution_count": 14,
     "metadata": {},
     "output_type": "execute_result"
    }
   ],
   "source": [
    "o"
   ]
  },
  {
   "cell_type": "markdown",
   "metadata": {},
   "source": [
    "**Result**: If a given p-value is < significance level (0.05), then, the corresponding X series (column) causes the Y (row)."
   ]
  },
  {
   "cell_type": "markdown",
   "metadata": {},
   "source": [
    "For this particular example, we can say that NIA releases causes changes in the dam water level. On the other hand, dam water level also causes changes in the NIA releases. This is an example of the feedback mentioned above."
   ]
  },
  {
   "cell_type": "markdown",
   "metadata": {},
   "source": [
    "We do the similar steps for the La Mesa dataset."
   ]
  },
  {
   "cell_type": "code",
   "execution_count": 15,
   "metadata": {},
   "outputs": [
    {
     "name": "stderr",
     "output_type": "stream",
     "text": [
      "/Users/prince.javier/opt/anaconda3/envs/atsa/lib/python3.7/site-packages/statsmodels/tsa/base/tsa_model.py:579: ValueWarning: An unsupported index was provided and will be ignored when e.g. forecasting.\n",
      "  ' ignored when e.g. forecasting.', ValueWarning)\n"
     ]
    },
    {
     "data": {
      "text/html": [
       "<div>\n",
       "<style scoped>\n",
       "    .dataframe tbody tr th:only-of-type {\n",
       "        vertical-align: middle;\n",
       "    }\n",
       "\n",
       "    .dataframe tbody tr th {\n",
       "        vertical-align: top;\n",
       "    }\n",
       "\n",
       "    .dataframe thead th {\n",
       "        text-align: right;\n",
       "    }\n",
       "</style>\n",
       "<table border=\"1\" class=\"dataframe\">\n",
       "  <thead>\n",
       "    <tr style=\"text-align: right;\">\n",
       "      <th></th>\n",
       "      <th>NIA_x</th>\n",
       "      <th>Dam_x</th>\n",
       "    </tr>\n",
       "  </thead>\n",
       "  <tbody>\n",
       "    <tr>\n",
       "      <th>NIA_y</th>\n",
       "      <td>1.000</td>\n",
       "      <td>0.1632</td>\n",
       "    </tr>\n",
       "    <tr>\n",
       "      <th>Dam_y</th>\n",
       "      <td>0.636</td>\n",
       "      <td>1.0000</td>\n",
       "    </tr>\n",
       "  </tbody>\n",
       "</table>\n",
       "</div>"
      ],
      "text/plain": [
       "       NIA_x   Dam_x\n",
       "NIA_y  1.000  0.1632\n",
       "Dam_y  0.636  1.0000"
      ]
     },
     "execution_count": 15,
     "metadata": {},
     "output_type": "execute_result"
    }
   ],
   "source": [
    "data = pd.read_csv('../data/La Mesa_dataset.csv', index_col='Time');\n",
    "data = data.dropna()\n",
    "data = data.drop(['Rain', 'ONI'], axis=1)\n",
    "# data['Rain'] = data['Rain'] - data['Rain'].shift(1)\n",
    "data['NIA'] = data['NIA'] - data['NIA'].shift(1)\n",
    "data['Dam'] = data['Dam'] - data['Dam'].shift(1)\n",
    "data = data.dropna()\n",
    "\n",
    "train = data[:end]\n",
    "test = data[end:]\n",
    "\n",
    "model = VAR(train)\n",
    "model_fitted = model.fit(2)\n",
    "lag_order = model_fitted.k_ar\n",
    "\n",
    "maxlag = lag_order\n",
    "test = 'ssr_chi2test'\n",
    "\n",
    "o1 = grangers_causation_matrix(train, variables = train.columns)\n",
    "o1"
   ]
  },
  {
   "cell_type": "markdown",
   "metadata": {},
   "source": [
    "We see that, unlike for Ipo, NIA releases and dam water level are NOT causal to one another."
   ]
  },
  {
   "cell_type": "markdown",
   "metadata": {},
   "source": [
    "## Exercises"
   ]
  },
  {
   "cell_type": "markdown",
   "metadata": {},
   "source": [
    "As exercises, the reader can check for causality between other pairs of variables from both the Ipo and La Mesa datasets, as well as from the Angat dataset."
   ]
  },
  {
   "cell_type": "markdown",
   "metadata": {},
   "source": [
    "## Jena Weather Data"
   ]
  },
  {
   "cell_type": "markdown",
   "metadata": {},
   "source": [
    "We look back at the Jena Weather Data and explore which variables are causal to one another."
   ]
  },
  {
   "cell_type": "code",
   "execution_count": 16,
   "metadata": {},
   "outputs": [
    {
     "data": {
      "text/html": [
       "<div>\n",
       "<style scoped>\n",
       "    .dataframe tbody tr th:only-of-type {\n",
       "        vertical-align: middle;\n",
       "    }\n",
       "\n",
       "    .dataframe tbody tr th {\n",
       "        vertical-align: top;\n",
       "    }\n",
       "\n",
       "    .dataframe thead th {\n",
       "        text-align: right;\n",
       "    }\n",
       "</style>\n",
       "<table border=\"1\" class=\"dataframe\">\n",
       "  <thead>\n",
       "    <tr style=\"text-align: right;\">\n",
       "      <th></th>\n",
       "      <th>p (mbar)</th>\n",
       "      <th>T (degC)</th>\n",
       "      <th>Tpot (K)</th>\n",
       "      <th>Tdew (degC)</th>\n",
       "      <th>rh (%)</th>\n",
       "      <th>VPmax (mbar)</th>\n",
       "      <th>VPact (mbar)</th>\n",
       "      <th>VPdef (mbar)</th>\n",
       "      <th>sh (g/kg)</th>\n",
       "      <th>H2OC (mmol/mol)</th>\n",
       "      <th>rho (g/m**3)</th>\n",
       "      <th>wv (m/s)</th>\n",
       "      <th>max. wv (m/s)</th>\n",
       "      <th>wd (deg)</th>\n",
       "    </tr>\n",
       "    <tr>\n",
       "      <th>Date Time</th>\n",
       "      <th></th>\n",
       "      <th></th>\n",
       "      <th></th>\n",
       "      <th></th>\n",
       "      <th></th>\n",
       "      <th></th>\n",
       "      <th></th>\n",
       "      <th></th>\n",
       "      <th></th>\n",
       "      <th></th>\n",
       "      <th></th>\n",
       "      <th></th>\n",
       "      <th></th>\n",
       "      <th></th>\n",
       "    </tr>\n",
       "  </thead>\n",
       "  <tbody>\n",
       "    <tr>\n",
       "      <th>2009-01-01 00:10:00</th>\n",
       "      <td>996.52</td>\n",
       "      <td>-8.02</td>\n",
       "      <td>265.40</td>\n",
       "      <td>-8.90</td>\n",
       "      <td>93.3</td>\n",
       "      <td>3.33</td>\n",
       "      <td>3.11</td>\n",
       "      <td>0.22</td>\n",
       "      <td>1.94</td>\n",
       "      <td>3.12</td>\n",
       "      <td>1307.75</td>\n",
       "      <td>1.03</td>\n",
       "      <td>1.75</td>\n",
       "      <td>152.3</td>\n",
       "    </tr>\n",
       "    <tr>\n",
       "      <th>2009-01-01 00:20:00</th>\n",
       "      <td>996.57</td>\n",
       "      <td>-8.41</td>\n",
       "      <td>265.01</td>\n",
       "      <td>-9.28</td>\n",
       "      <td>93.4</td>\n",
       "      <td>3.23</td>\n",
       "      <td>3.02</td>\n",
       "      <td>0.21</td>\n",
       "      <td>1.89</td>\n",
       "      <td>3.03</td>\n",
       "      <td>1309.80</td>\n",
       "      <td>0.72</td>\n",
       "      <td>1.50</td>\n",
       "      <td>136.1</td>\n",
       "    </tr>\n",
       "    <tr>\n",
       "      <th>2009-01-01 00:30:00</th>\n",
       "      <td>996.53</td>\n",
       "      <td>-8.51</td>\n",
       "      <td>264.91</td>\n",
       "      <td>-9.31</td>\n",
       "      <td>93.9</td>\n",
       "      <td>3.21</td>\n",
       "      <td>3.01</td>\n",
       "      <td>0.20</td>\n",
       "      <td>1.88</td>\n",
       "      <td>3.02</td>\n",
       "      <td>1310.24</td>\n",
       "      <td>0.19</td>\n",
       "      <td>0.63</td>\n",
       "      <td>171.6</td>\n",
       "    </tr>\n",
       "  </tbody>\n",
       "</table>\n",
       "</div>"
      ],
      "text/plain": [
       "                     p (mbar)  T (degC)  Tpot (K)  Tdew (degC)  rh (%)  \\\n",
       "Date Time                                                                \n",
       "2009-01-01 00:10:00    996.52     -8.02    265.40        -8.90    93.3   \n",
       "2009-01-01 00:20:00    996.57     -8.41    265.01        -9.28    93.4   \n",
       "2009-01-01 00:30:00    996.53     -8.51    264.91        -9.31    93.9   \n",
       "\n",
       "                     VPmax (mbar)  VPact (mbar)  VPdef (mbar)  sh (g/kg)  \\\n",
       "Date Time                                                                  \n",
       "2009-01-01 00:10:00          3.33          3.11          0.22       1.94   \n",
       "2009-01-01 00:20:00          3.23          3.02          0.21       1.89   \n",
       "2009-01-01 00:30:00          3.21          3.01          0.20       1.88   \n",
       "\n",
       "                     H2OC (mmol/mol)  rho (g/m**3)  wv (m/s)  max. wv (m/s)  \\\n",
       "Date Time                                                                     \n",
       "2009-01-01 00:10:00             3.12       1307.75      1.03           1.75   \n",
       "2009-01-01 00:20:00             3.03       1309.80      0.72           1.50   \n",
       "2009-01-01 00:30:00             3.02       1310.24      0.19           0.63   \n",
       "\n",
       "                     wd (deg)  \n",
       "Date Time                      \n",
       "2009-01-01 00:10:00     152.3  \n",
       "2009-01-01 00:20:00     136.1  \n",
       "2009-01-01 00:30:00     171.6  "
      ]
     },
     "execution_count": 16,
     "metadata": {},
     "output_type": "execute_result"
    }
   ],
   "source": [
    "jena_data = pd.read_csv('../data/jena_climate_2009_2016.csv')\n",
    "jena_data['Date Time'] = pd.to_datetime(jena_data['Date Time'])\n",
    "jena_data = jena_data.set_index('Date Time')\n",
    "jena_data.head(3)"
   ]
  },
  {
   "cell_type": "markdown",
   "metadata": {},
   "source": [
    "Consider last 10,000 data points for p and T."
   ]
  },
  {
   "cell_type": "code",
   "execution_count": 96,
   "metadata": {
    "scrolled": true
   },
   "outputs": [
    {
     "data": {
      "text/html": [
       "<div>\n",
       "<style scoped>\n",
       "    .dataframe tbody tr th:only-of-type {\n",
       "        vertical-align: middle;\n",
       "    }\n",
       "\n",
       "    .dataframe tbody tr th {\n",
       "        vertical-align: top;\n",
       "    }\n",
       "\n",
       "    .dataframe thead th {\n",
       "        text-align: right;\n",
       "    }\n",
       "</style>\n",
       "<table border=\"1\" class=\"dataframe\">\n",
       "  <thead>\n",
       "    <tr style=\"text-align: right;\">\n",
       "      <th></th>\n",
       "      <th>p (mbar)</th>\n",
       "      <th>T (degC)</th>\n",
       "    </tr>\n",
       "    <tr>\n",
       "      <th>Date Time</th>\n",
       "      <th></th>\n",
       "      <th></th>\n",
       "    </tr>\n",
       "  </thead>\n",
       "  <tbody>\n",
       "    <tr>\n",
       "      <th>2009-01-01 00:10:00</th>\n",
       "      <td>996.52</td>\n",
       "      <td>-8.02</td>\n",
       "    </tr>\n",
       "    <tr>\n",
       "      <th>2009-01-01 00:20:00</th>\n",
       "      <td>996.57</td>\n",
       "      <td>-8.41</td>\n",
       "    </tr>\n",
       "    <tr>\n",
       "      <th>2009-01-01 00:30:00</th>\n",
       "      <td>996.53</td>\n",
       "      <td>-8.51</td>\n",
       "    </tr>\n",
       "  </tbody>\n",
       "</table>\n",
       "</div>"
      ],
      "text/plain": [
       "                     p (mbar)  T (degC)\n",
       "Date Time                              \n",
       "2009-01-01 00:10:00    996.52     -8.02\n",
       "2009-01-01 00:20:00    996.57     -8.41\n",
       "2009-01-01 00:30:00    996.53     -8.51"
      ]
     },
     "execution_count": 96,
     "metadata": {},
     "output_type": "execute_result"
    }
   ],
   "source": [
    "jena_sample = jena_data.iloc[:,:2]\n",
    "jena_sample.head(3)"
   ]
  },
  {
   "cell_type": "code",
   "execution_count": 97,
   "metadata": {},
   "outputs": [
    {
     "data": {
      "image/png": "[encoded data removed]",
      "text/plain": [
       "<Figure size 1080x360 with 2 Axes>"
      ]
     },
     "metadata": {
      "filenames": {
       "image/png": "/Users/prince.javier/Desktop/personal/PhDDS/ATSA/final_book/_build/jupyter_execute/04_GrangerCausality/04_GrangerCausality_43_0.png"
      },
      "needs_background": "light"
     },
     "output_type": "display_data"
    }
   ],
   "source": [
    "f2, (ax4, ax5) = plt.subplots(1, 2, figsize=(15, 5))\n",
    "f2.tight_layout()\n",
    "\n",
    "lag_plot(jena_sample['p (mbar)'], ax=ax4)\n",
    "ax4.set_title('p (mbar)');\n",
    "\n",
    "lag_plot(jena_sample['T (degC)'], ax=ax5)\n",
    "ax5.set_title('T (degC)');\n",
    "\n",
    "plt.show()"
   ]
  },
  {
   "cell_type": "markdown",
   "metadata": {},
   "source": [
    "**Result**: T data is not stationary. We use differencing to make it  stationary."
   ]
  },
  {
   "cell_type": "code",
   "execution_count": 98,
   "metadata": {},
   "outputs": [
    {
     "name": "stderr",
     "output_type": "stream",
     "text": [
      "<ipython-input-98-3aed1e4c60a7>:4: SettingWithCopyWarning: \n",
      "A value is trying to be set on a copy of a slice from a DataFrame.\n",
      "Try using .loc[row_indexer,col_indexer] = value instead\n",
      "\n",
      "See the caveats in the documentation: https://pandas.pydata.org/pandas-docs/stable/user_guide/indexing.html#returning-a-view-versus-a-copy\n",
      "  jena_sample['p (mbar)'] = jena_sample['p (mbar)'] - jena_sample['p (mbar)'].shift(1)\n",
      "<ipython-input-98-3aed1e4c60a7>:5: SettingWithCopyWarning: \n",
      "A value is trying to be set on a copy of a slice from a DataFrame.\n",
      "Try using .loc[row_indexer,col_indexer] = value instead\n",
      "\n",
      "See the caveats in the documentation: https://pandas.pydata.org/pandas-docs/stable/user_guide/indexing.html#returning-a-view-versus-a-copy\n",
      "  jena_sample['T (degC)'] = jena_sample['T (degC)'] - jena_sample['T (degC)'].shift(1)\n"
     ]
    }
   ],
   "source": [
    "# differencing for stationarity check\n",
    "rawData = jena_sample.copy(deep=True)\n",
    "\n",
    "jena_sample['p (mbar)'] = jena_sample['p (mbar)'] - jena_sample['p (mbar)'].shift(1)\n",
    "jena_sample['T (degC)'] = jena_sample['T (degC)'] - jena_sample['T (degC)'].shift(1)\n",
    "jena_sample = jena_sample.dropna()"
   ]
  },
  {
   "cell_type": "code",
   "execution_count": 99,
   "metadata": {},
   "outputs": [],
   "source": [
    "# split data into train and test sets for VAR later on\n",
    "end = round(len(jena_sample)*.8)\n",
    "train = jena_sample[:end]\n",
    "test = jena_sample[end:]"
   ]
  },
  {
   "cell_type": "code",
   "execution_count": 100,
   "metadata": {},
   "outputs": [
    {
     "name": "stdout",
     "output_type": "stream",
     "text": [
      "ADF Statistic: -59.104716\n",
      "p-value: 0.000000\n",
      "Critical Values:\n",
      "\t1%: -3.430\n",
      "\t5%: -2.862\n",
      "\t10%: -2.567\n",
      "ADF Statistic: -122.256393\n",
      "p-value: 0.000000\n",
      "Critical Values:\n",
      "\t1%: -3.430\n",
      "\t5%: -2.862\n",
      "\t10%: -2.567\n"
     ]
    }
   ],
   "source": [
    "# ADF Null Hypothesis: there is a unit root, meaning series is non-stationary\n",
    "\n",
    "X1 = np.array(jena_sample['p (mbar)'])\n",
    "X1 = X1[~np.isnan(X1)]\n",
    "\n",
    "result = adfuller(X1)\n",
    "print('ADF Statistic: %f' % result[0])\n",
    "print('p-value: %f' % result[1])\n",
    "print('Critical Values:')\n",
    "for key, value in result[4].items():\n",
    "    print('\\t%s: %.3f' % (key, value))\n",
    "    \n",
    "    \n",
    "X2 = np.array(jena_sample['T (degC)'])\n",
    "X2 = X2[~np.isnan(X2)]\n",
    "\n",
    "result = adfuller(X2)\n",
    "print('ADF Statistic: %f' % result[0])\n",
    "print('p-value: %f' % result[1])\n",
    "print('Critical Values:')\n",
    "for key, value in result[4].items():\n",
    "    print('\\t%s: %.3f' % (key, value))"
   ]
  },
  {
   "cell_type": "code",
   "execution_count": 101,
   "metadata": {},
   "outputs": [
    {
     "name": "stdout",
     "output_type": "stream",
     "text": [
      "KPSS Statistic: 0.0016032868205162105\n",
      "p-value: 0.1\n",
      "num lags: 97\n",
      "Critial Values:\n",
      "   10% : 0.347\n",
      "   5% : 0.463\n",
      "   2.5% : 0.574\n",
      "   1% : 0.739\n",
      "Result: The series is stationary\n",
      "KPSS Statistic: 0.002692749007731491\n",
      "p-value: 0.1\n",
      "num lags: 97\n",
      "Critial Values:\n",
      "   10% : 0.347\n",
      "   5% : 0.463\n",
      "   2.5% : 0.574\n",
      "   1% : 0.739\n",
      "Result: The series is stationary\n"
     ]
    },
    {
     "name": "stderr",
     "output_type": "stream",
     "text": [
      "/opt/conda/lib/python3.8/site-packages/statsmodels/tsa/stattools.py:1850: FutureWarning: The behavior of using nlags=None will change in release 0.13.Currently nlags=None is the same as nlags=\"legacy\", and so a sample-size lag length is used. After the next release, the default will change to be the same as nlags=\"auto\" which uses an automatic lag length selection method. To silence this warning, either use \"auto\" or \"legacy\"\n",
      "  warnings.warn(msg, FutureWarning)\n",
      "/opt/conda/lib/python3.8/site-packages/statsmodels/tsa/stattools.py:1885: InterpolationWarning: The test statistic is outside of the range of p-values available in the\n",
      "look-up table. The actual p-value is greater than the p-value returned.\n",
      "\n",
      "  warnings.warn(\n",
      "/opt/conda/lib/python3.8/site-packages/statsmodels/tsa/stattools.py:1885: InterpolationWarning: The test statistic is outside of the range of p-values available in the\n",
      "look-up table. The actual p-value is greater than the p-value returned.\n",
      "\n",
      "  warnings.warn(\n"
     ]
    }
   ],
   "source": [
    "# KPSS Null Hypothesis: there is no unit root, meaning series is stationary\n",
    "\n",
    "def kpss_test(series, **kw):    \n",
    "    statistic, p_value, n_lags, critical_values = kpss(series, **kw)\n",
    "    # Format Output\n",
    "    print(f'KPSS Statistic: {statistic}')\n",
    "    print(f'p-value: {p_value}')\n",
    "    print(f'num lags: {n_lags}')\n",
    "    print('Critial Values:')\n",
    "    for key, value in critical_values.items():\n",
    "        print(f'   {key} : {value}')\n",
    "    print(f'Result: The series is {\"not \" if p_value < 0.05 else \"\"}stationary')\n",
    "\n",
    "kpss_test(X1)\n",
    "kpss_test(X2)"
   ]
  },
  {
   "cell_type": "markdown",
   "metadata": {},
   "source": [
    "**Results**: ADF Null Hypothesis is rejected. Thus, data is stationary. KPSS Null Hypothesis could not be rejected. Thus, data is stationary."
   ]
  },
  {
   "cell_type": "code",
   "execution_count": 102,
   "metadata": {},
   "outputs": [
    {
     "data": {
      "image/png": "[encoded data removed]",
      "text/plain": [
       "<Figure size 1080x360 with 2 Axes>"
      ]
     },
     "metadata": {
      "filenames": {
       "image/png": "/Users/prince.javier/Desktop/personal/PhDDS/ATSA/final_book/_build/jupyter_execute/04_GrangerCausality/04_GrangerCausality_50_0.png"
      },
      "needs_background": "light"
     },
     "output_type": "display_data"
    }
   ],
   "source": [
    "f2, (ax4, ax5) = plt.subplots(1, 2, figsize=(15, 5))\n",
    "f2.tight_layout()\n",
    "\n",
    "lag_plot(jena_sample['p (mbar)'], ax=ax4)\n",
    "ax4.set_title('p (mbar)');\n",
    "\n",
    "lag_plot(jena_sample['T (degC)'], ax=ax5)\n",
    "ax5.set_title('T (degC)');\n",
    "\n",
    "plt.show()"
   ]
  },
  {
   "cell_type": "markdown",
   "metadata": {},
   "source": [
    "**Result**: Lag plots confirm results of ADF test and KPSS test."
   ]
  },
  {
   "cell_type": "markdown",
   "metadata": {},
   "source": [
    "**Step 2**: Set up a VAR model for the data (without differencing)."
   ]
  },
  {
   "cell_type": "code",
   "execution_count": 103,
   "metadata": {},
   "outputs": [
    {
     "name": "stderr",
     "output_type": "stream",
     "text": [
      "/opt/conda/lib/python3.8/site-packages/statsmodels/tsa/base/tsa_model.py:581: ValueWarning: A date index has been provided, but it has no associated frequency information and so will be ignored when e.g. forecasting.\n",
      "  warnings.warn('A date index has been provided, but it has no'\n",
      "/opt/conda/lib/python3.8/site-packages/statsmodels/tsa/base/tsa_model.py:585: ValueWarning: A date index has been provided, but it is not monotonic and so will be ignored when e.g. forecasting.\n",
      "  warnings.warn('A date index has been provided, but it is not'\n"
     ]
    }
   ],
   "source": [
    "model = VAR(train)\n",
    "model_fitted = model.fit(2)"
   ]
  },
  {
   "cell_type": "markdown",
   "metadata": {},
   "source": [
    "**Step 4**: Make sure that the VAR is well-specified. For example, ensure that there is no serial correlation in the residuals. If need be, increase p until any autocorrelation issues are resolved."
   ]
  },
  {
   "cell_type": "code",
   "execution_count": 104,
   "metadata": {},
   "outputs": [
    {
     "name": "stdout",
     "output_type": "stream",
     "text": [
      "Rain : 2.01\n",
      "Dam : 2.0\n"
     ]
    }
   ],
   "source": [
    "#Check for Serial Correlation of Residuals (Errors) using Durbin Watson Statistic\n",
    "#The value of this statistic can vary between 0 and 4. \n",
    "#The closer it is to the value 2, then there is no significant serial correlation. \n",
    "#The closer to 0, there is a positive serial correlation, \n",
    "#and the closer it is to 4 implies negative serial correlation.\n",
    "\n",
    "out = durbin_watson(model_fitted.resid)\n",
    "\n",
    "for col, val in zip(data.columns, out):\n",
    "    print(col, ':', round(val, 2))"
   ]
  },
  {
   "cell_type": "markdown",
   "metadata": {},
   "source": [
    "**Result**: There is no significant correlation between in the residuals."
   ]
  },
  {
   "cell_type": "markdown",
   "metadata": {},
   "source": [
    "**Step 5**: Now take the preferred VAR model and add in m additional lags of each of the variables into each of the equations."
   ]
  },
  {
   "cell_type": "code",
   "execution_count": 105,
   "metadata": {},
   "outputs": [
    {
     "name": "stderr",
     "output_type": "stream",
     "text": [
      "/opt/conda/lib/python3.8/site-packages/statsmodels/tsa/base/tsa_model.py:581: ValueWarning: A date index has been provided, but it has no associated frequency information and so will be ignored when e.g. forecasting.\n",
      "  warnings.warn('A date index has been provided, but it has no'\n",
      "/opt/conda/lib/python3.8/site-packages/statsmodels/tsa/base/tsa_model.py:585: ValueWarning: A date index has been provided, but it is not monotonic and so will be ignored when e.g. forecasting.\n",
      "  warnings.warn('A date index has been provided, but it is not'\n"
     ]
    },
    {
     "name": "stdout",
     "output_type": "stream",
     "text": [
      "2\n"
     ]
    }
   ],
   "source": [
    "model = VAR(train)\n",
    "model_fitted = model.fit(2)\n",
    "#get the lag order\n",
    "lag_order = model_fitted.k_ar\n",
    "print(lag_order)"
   ]
  },
  {
   "cell_type": "markdown",
   "metadata": {},
   "source": [
    "**Step 6**: Test for Granger non-causality."
   ]
  },
  {
   "cell_type": "code",
   "execution_count": 106,
   "metadata": {},
   "outputs": [],
   "source": [
    "maxlag = lag_order\n",
    "test = 'ssr_chi2test'\n",
    "def grangers_causation_matrix(data, variables, test='ssr_chi2test', verbose=False):    \n",
    "    \"\"\"Check Granger Causality of all possible combinations of the time series.\n",
    "    The rows are the response variable, columns are predictors. The values in the table \n",
    "    are the P-Values. P-Values lesser than the significance level (0.05), implies \n",
    "    the Null Hypothesis that the coefficients of the corresponding past values is \n",
    "    zero, that is, the X does not cause Y can be rejected.\n",
    "\n",
    "    data      : pandas dataframe containing the time series variables\n",
    "    variables : list containing names of the time series variables.\n",
    "    \"\"\"\n",
    "    df = pd.DataFrame(np.zeros((len(variables), len(variables))), columns=variables, index=variables)\n",
    "    for c in df.columns:\n",
    "        for r in df.index:\n",
    "            test_result = grangercausalitytests(data[[r, c]], maxlag=maxlag, verbose=False)\n",
    "            p_values = [round(test_result[i+1][0][test][1],4) for i in range(maxlag)]\n",
    "            if verbose: print(f'Y = {r}, X = {c}, P Values = {p_values}')\n",
    "            min_p_value = np.min(p_values)\n",
    "            df.loc[r, c] = min_p_value\n",
    "    df.columns = [var + '_x' for var in variables]\n",
    "    df.index = [var + '_y' for var in variables]\n",
    "    return df\n",
    "\n",
    "o = grangers_causation_matrix(train, variables = train.columns)  "
   ]
  },
  {
   "cell_type": "code",
   "execution_count": 107,
   "metadata": {},
   "outputs": [
    {
     "data": {
      "text/html": [
       "<div>\n",
       "<style scoped>\n",
       "    .dataframe tbody tr th:only-of-type {\n",
       "        vertical-align: middle;\n",
       "    }\n",
       "\n",
       "    .dataframe tbody tr th {\n",
       "        vertical-align: top;\n",
       "    }\n",
       "\n",
       "    .dataframe thead th {\n",
       "        text-align: right;\n",
       "    }\n",
       "</style>\n",
       "<table border=\"1\" class=\"dataframe\">\n",
       "  <thead>\n",
       "    <tr style=\"text-align: right;\">\n",
       "      <th></th>\n",
       "      <th>p (mbar)_x</th>\n",
       "      <th>T (degC)_x</th>\n",
       "    </tr>\n",
       "  </thead>\n",
       "  <tbody>\n",
       "    <tr>\n",
       "      <th>p (mbar)_y</th>\n",
       "      <td>1.0</td>\n",
       "      <td>0.0</td>\n",
       "    </tr>\n",
       "    <tr>\n",
       "      <th>T (degC)_y</th>\n",
       "      <td>0.0</td>\n",
       "      <td>1.0</td>\n",
       "    </tr>\n",
       "  </tbody>\n",
       "</table>\n",
       "</div>"
      ],
      "text/plain": [
       "            p (mbar)_x  T (degC)_x\n",
       "p (mbar)_y         1.0         0.0\n",
       "T (degC)_y         0.0         1.0"
      ]
     },
     "execution_count": 107,
     "metadata": {},
     "output_type": "execute_result"
    }
   ],
   "source": [
    "o"
   ]
  },
  {
   "cell_type": "markdown",
   "metadata": {},
   "source": [
    "We observe that p \"causes\" T, but not the other way around."
   ]
  },
  {
   "cell_type": "markdown",
   "metadata": {},
   "source": [
    "Causality will be revisited in a later chapter, in particular addressing the limitations of the method discussed in this chapter."
   ]
  },
  {
   "cell_type": "markdown",
   "metadata": {},
   "source": [
    "## References\n",
    "\n",
    "The contents of this notebook are compiled from the following references:\n",
    "\n",
    "* [Granger, C. (1969). Investigating Causal Relations by Econometric Models and Cross-spectral Methods. Econometrica, 37(3), 424-438.](https://www.jstor.org/stable/1912791)\n",
    "* [Toda, Hiro Y. & Yamamoto, Taku (1995). Statistical inference in vector autoregressions with possibly integrated processes. Journal of Econometrics, 66(1-2), 225-250.](https://ideas.repec.org/a/eee/econom/v66y1995i1-2p225-250.html)\n",
    "* [Hood, M., Kidd, Q., & Morris, I. (2008). Two Sides of the Same Coin? Employing Granger Causality Tests in a Time Series Cross-Section Framework. Political Analysis, 16(3), 324-344.](https://www.jstor.org/stable/25791939)\n",
    "* [Testing for Granger Causality Using Python](https://rishi-a.github.io/2020/05/25/granger-causality.html)"
   ]
  }
 ],
 "metadata": {
  "kernelspec": {
   "display_name": "Python 3",
   "language": "python",
   "name": "python3"
  },
  "language_info": {
   "codemirror_mode": {
    "name": "ipython",
    "version": 3
   },
   "file_extension": ".py",
   "mimetype": "text/x-python",
   "name": "python",
   "nbconvert_exporter": "python",
   "pygments_lexer": "ipython3",
   "version": "3.7.9"
  }
 },
 "nbformat": 4,
 "nbformat_minor": 2
}